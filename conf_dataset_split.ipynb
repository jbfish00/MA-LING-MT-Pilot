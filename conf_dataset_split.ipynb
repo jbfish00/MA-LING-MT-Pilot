{
 "cells": [
  {
   "cell_type": "code",
   "execution_count": null,
   "metadata": {},
   "outputs": [
    {
     "name": "stdout",
     "output_type": "stream",
     "text": [
      "Training data saved to train_conf.json (712 samples)\n",
      "Test data saved to test_conf.json (80 samples)\n"
     ]
    }
   ],
   "source": [
    "#Split a JSON file into training and testing sets\n",
    "#This script assumes the JSON file contains a list of entries\n",
    "\n",
    "import json\n",
    "import random\n",
    "\n",
    "# Optional: set a seed for reproducibility\n",
    "random.seed(3)\n",
    "\n",
    "# Define file paths\n",
    "input_file = 'parallel_conf_data.json'   # your original JSON file\n",
    "train_file = 'train_conf.json'  # output file for training data\n",
    "test_file = 'test_conf.json'    # output file for testing data\n",
    "\n",
    "# Load JSON data (assuming the file contains a list of entries)\n",
    "with open(input_file, 'r', encoding='utf-8') as f:\n",
    "    data = json.load(f)\n",
    "\n",
    "# Shuffle the data to randomize the order\n",
    "random.shuffle(data)\n",
    "\n",
    "# Calculate the split index for a 90/10 train/test split\n",
    "split_index = int(0.9 * len(data))\n",
    "train_data = data[:split_index]\n",
    "test_data = data[split_index:]\n",
    "\n",
    "# Save the training data\n",
    "with open(train_file, 'w', encoding='utf-8') as f:\n",
    "    json.dump(train_data, f, ensure_ascii=False, indent=4)\n",
    "\n",
    "# Save the testing data\n",
    "with open(test_file, 'w', encoding='utf-8') as f:\n",
    "    json.dump(test_data, f, ensure_ascii=False, indent=4)\n",
    "\n",
    "print(f'Training data saved to {train_file} ({len(train_data)} samples)')\n",
    "print(f'Test data saved to {test_file} ({len(test_data)} samples)')\n"
   ]
  }
 ],
 "metadata": {
  "kernelspec": {
   "display_name": "stat486",
   "language": "python",
   "name": "python3"
  },
  "language_info": {
   "codemirror_mode": {
    "name": "ipython",
    "version": 3
   },
   "file_extension": ".py",
   "mimetype": "text/x-python",
   "name": "python",
   "nbconvert_exporter": "python",
   "pygments_lexer": "ipython3",
   "version": "3.10.13"
  }
 },
 "nbformat": 4,
 "nbformat_minor": 2
}
